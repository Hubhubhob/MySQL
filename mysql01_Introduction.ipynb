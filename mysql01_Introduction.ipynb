{
 "cells": [
  {
   "cell_type": "markdown",
   "id": "f09e9cb8",
   "metadata": {},
   "source": [
    "# Pengertian Basis Data (Database)"
   ]
  },
  {
   "cell_type": "markdown",
   "id": "8f426c4f",
   "metadata": {},
   "source": [
    "Basis data adalah kumpulan data yang terorganisir, yang umumnya disimpan dan diakses secara elektronik dari suatu sistem komputer. Pada saat basis data menjadi semakin kompleks, maka basis data akan dikembangkan dengan teknik perancangan dan pemodelan secara formal.\n",
    "\n",
    "Perangkat lunak yang digunakan untuk mengelola dan memanggil query basis data disebut sistem manajemen basis data (database management system, DBMS). Istilah basis data berawal dari ilmu komputer. Basis data terdiri dari kata basis dan data. Basis dapat diartikan sebagai markas atau gudang, sedangkan data adalah catatan atas kumpulan fakta dunia nyata yang mewakili objek seperti manusia, barang, hewan, konsep, peristiwa dan sebagainya yang diwujudkan dalam bentuk huruf, angka, simbol, gambar, teks, audio, video atau kombinasinya.\n",
    "\n",
    "Sebuah basis data memiliki penjelasan terstruktur dari jenis fakta yang tersimpan di dalamnya (skema). Skema menggambarkan objek yang diwakili suatu basis data dan hubungan di antara objek tersebut. Ada banyak cara untuk mengorganisasi skema atau memodelkan struktur basis data.\n",
    "\n",
    "Model yang umum digunakan sekarang adalah model relasional, yang menurut istilah layman mewakili semua informasi dalam bentuk tabel-tabel yang saling berhubungan di mana setiap tabel terdiri dari baris dan kolom (definisi yang sebenarnya menggunakan terminologi matematika)."
   ]
  },
  {
   "cell_type": "markdown",
   "id": "c01a6cc2",
   "metadata": {},
   "source": [
    "# Pengertian MySQL"
   ]
  },
  {
   "cell_type": "markdown",
   "id": "79892574",
   "metadata": {},
   "source": [
    "MySQL adalah sebuah sistem manajemen basis data (database management system) yang menggunakan perintah dasar SQL (Structured Query Language) yang cukup terkenal. MySQL sudah dipakai lebih dari 6 juta pengguna di seluruh dunia.\n",
    "\n",
    "MySQL adalah DBMS yang open source dengan dua bentuk lisensi, yaitu Free Software (perangkat lunak bebas) dan Shareware (perangkat lunak berpemilik yang penggunaannya terbatas). Jadi MySQL gratis dengan lisensi GNU General Public License (GPL) sehingga dapat kalian pakai untuk keperluan pribadi atau komersil tanpa harus membayar lisensi yang ada.\n",
    "\n",
    "MySQL masuk ke dalam jenis Relational Database Management System (RDBMS). Maka dari itu, istilah semacam baris, kolom dan tabel dipakai pada MySQL. Contohnya di dalam MySQL mempunyai sebuah database yang terdapat satu atau beberapa tabel.\n",
    "\n",
    "SQL sendiri merupakan suatu bahasa yang dipakai untuk pengambilan atau pengelolaan data pada relational database atau basis data yang terstruktur. Jadi MySQL adalah sistem manajemen basis data yang menggunakan bahasa SQL sebagai bahasa penghubung antara perangkat lunak aplikasi dengan database server.\n",
    "\n",
    "SQL (Structured Query Language) adalah bahasa pemrograman khusus yang digunakan untuk memanajemen data dalam RDBMS. SQL biasanya berupa perintah yang berisi instruksi-instruksi untuk memanipulasi data. Perintah SQL ini sering juga disingkat dengan sebutan query."
   ]
  },
  {
   "cell_type": "markdown",
   "id": "49ce6be9",
   "metadata": {},
   "source": [
    "# Sejarah MySQL"
   ]
  },
  {
   "cell_type": "markdown",
   "id": "b957a87c",
   "metadata": {},
   "source": [
    "MySQL pada awalnya diciptakan pada tahun 1979 oleh Michael Monty Widenius, seorang programmer komputer asal Swedia. Monty mengembangkan sebuah sistem database sederhana yang dinamakan UNIREG yang menggunakan koneksi low-level ISAM database engine dengan indexing. Pada saat itu Monty bekerja pada perusahaan bernama TcX di Swedia.\n",
    "\n",
    "TcX pada tahun 1994 mulai mengembangkan aplikasi berbasis web dan berencana menggunakan UNIREG sebagai sistem database. Namun sayangnya, UNIREG dianggagap tidak cocok untuk database yang dinamis seperti web.\n",
    "\n",
    "TcX kemudian mencoba mencari alternatif sistem database lainnya, salah satunya adalah mSQL (miniSQL). Namun mSQL versi 1 ini juga memiliki kekurangan, yaitu tidak mendukung indexing, sehingga performanya tidak terlalu bagus.\n",
    "\n",
    "Dengan tujuan memperbaiki performa mSQL, Monty mencoba menghubungi David Hughes (programmer yang mengembangkan mSQL) untuk menanyakan apakah ia tertarik mengembangkan sebuah konektor di mSQL yang dapat dihubungkan dengan UNIREG ISAM sehingga mendukung indexing. Namun saat itu Hughes menolak, dengan alasan sedang mengembangkan teknologi indexing yang independen untuk mSQL versi 2.\n",
    "\n",
    "Dikarenakan penolakan tersebut, David Hughes, TcX (dan juga Monty) akhirnya memutuskan untuk merancang dan mengembangkan sendiri konsep sistem database baru. Sistem ini merupakan gabungan dari UNIREG dan mSQL (yang source codenya dapat bebas digunakan). Sehingga pada Mei 1995, sebuah RDBMS baru, yang dinamakan MySQL dirilis.\n",
    "\n",
    "David Axmark dari Detron HB, rekanan TcX mengusulkan agar MySQL di jual dengan model bisnis baru. Ia mengusulkan agar MySQL dikembangkan dan dirilis dengan gratis. Pendapatan perusahaan selanjutnya di dapat dari menjual jasa support untuk perusahaan yang ingin mengimplementasikan MySQL. Konsep bisnis ini sekarang dikenal dengan istilah Open Source.\n",
    "\n",
    "Pada tahun 1995 itu juga, TcX berubah nama menjadi MySQL AB, dengan Michael Widenius, David Axmark dan Allan Larsson sebagai pendirinya. Titel AB di belakang MySQL, adalah singkatan dari Aktiebolag, istilah PT (Perseroan Terbatas) bagi perusahaan Swedia.\n",
    "\n",
    "Kelebihan MySQL:\n",
    "1.Mendukung integrasi dengan bahasa pemrograman lain.\n",
    "2.Tidak membutuhkan RAM yang besar.\n",
    "3.Struktur tabel yang fleksibel.\n",
    "4.Tipe data yang bervariasi.\n",
    "5.Keamanan yang terjamin.\n",
    "6.Mendukung multi user.\n",
    "7.Bersifat open source."
   ]
  },
  {
   "cell_type": "code",
   "execution_count": null,
   "id": "ef3f2492",
   "metadata": {},
   "outputs": [],
   "source": []
  }
 ],
 "metadata": {
  "kernelspec": {
   "display_name": "Python 3 (ipykernel)",
   "language": "python",
   "name": "python3"
  },
  "language_info": {
   "codemirror_mode": {
    "name": "ipython",
    "version": 3
   },
   "file_extension": ".py",
   "mimetype": "text/x-python",
   "name": "python",
   "nbconvert_exporter": "python",
   "pygments_lexer": "ipython3",
   "version": "3.9.12"
  }
 },
 "nbformat": 4,
 "nbformat_minor": 5
}
